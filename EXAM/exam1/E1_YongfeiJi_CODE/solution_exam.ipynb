{
 "cells": [
  {
   "cell_type": "markdown",
   "metadata": {},
   "source": [
    "1.1 The Lagrange formula is expressed as follows, where w is the variable and $\\lambda_{1}$ and $\\lambda_{2}$ are the constraints\n",
    "$$L(w,\\lambda_{1},\\lambda_{2}) = \\frac{1}{2}w^{'}\\Sigma w+ \\lambda_{1}(m-w^{'}\\mu) +\\lambda_{2}(1-w^{'}\\textbf{1})$$\n",
    "Take the partial derivative with respect to w\n",
    "$$\\frac{\\partial{L}}{\\partial{w}} = \\Sigma w -\\lambda_{1}\\mu - \\lambda_{2}\\textbf{1}$$\n",
    "Take the partial derivative with respect to $\\lambda_{1}$\n",
    "$$\\frac{\\partial{L}}{\\partial{\\lambda_{1}}} = m - w^{'}\\mu$$\n",
    "Take the partial derivative with respect to $\\lambda_{1}$\n",
    "$$\\frac{\\partial{L}}{\\partial{\\lambda_{1}}} = 1 - w^{'}\\mathit{\\textbf{1}}$$"
   ]
  },
  {
   "cell_type": "markdown",
   "metadata": {},
   "source": [
    "For convenience, we define the following scalars:\n",
    "$$\\begin{cases}\n",
    "A = \\textbf{1}\\Sigma^{-1}\\textbf{1} \\\\\n",
    "B = \\mu^{'}\\Sigma^{-1}\\textbf{1} \\\\\n",
    "C = \\mu^{'}\\Sigma^{-1}\\mu\n",
    "\\end{cases}$$\n",
    " the analytical solution for is\n",
    " $$w^{∗} = \\frac{1}{AC-B^{2}}\\Sigma^{-1}[(A\\mu-B\\textbf{1})m+(C\\textbf{1}-B\\mu)]$$"
   ]
  },
  {
   "cell_type": "markdown",
   "metadata": {},
   "source": [
    "When m is equal to 4.5%, that's what we get\n",
    "$$w^{*} = \\left(\\begin{array}{c}\n",
    "0.78511066 \\\\\n",
    "0.05386419 \\\\\n",
    "0.13355472 \\\\\n",
    "0.02747042\n",
    "\\end{array}\\right)$$\n",
    "$$ \\sigma_{\\Pi} = 0.05840091$$"
   ]
  },
  {
   "cell_type": "markdown",
   "metadata": {},
   "source": [
    "1.2 The four assets form a portfolio, and the portfolio generates different return $\\mu$ and risk $\\sigma$ according to the different ratio $\\textbf{w}$ of the four assets. As can be seen from the figure, The graph formed by the portfolio is a graph with a parabola as the outer boundary,the point falling on the upper edge of the parabola corresponds to the given risk $\\sigma$, with the maximum return $\\mu$ (or given return $\\mu$, with the minimum risk $\\sigma$), and the point falling on the inside of the parabola is the achievable $\\sigma$ and $\\mu$ of the investment portfolio. In the outer region of the parabola, the corresponding $\\sigma$ and $\\mu$ are portfolios that cannot be realized"
   ]
  },
  {
   "cell_type": "markdown",
   "metadata": {},
   "source": [
    "<img src=\"./image/solution2_1.png\" style=\"width:600px\">"
   ]
  },
  {
   "cell_type": "markdown",
   "metadata": {},
   "source": [
    "2 Based on the given $\\sigma$, $\\textbf{w}$, $\\textbf{corr}$, can obtain：\n",
    "\n",
    "$$\n",
    "w=\\left(\\begin{array}{c}\n",
    "0.5 \\\\\n",
    "0.2 \\\\\n",
    "0.3 \n",
    "\\end{array}\\right), R=\\left(\\begin{array}{c}\n",
    "1 & 0.8 & 0.5 \\\\\n",
    "0.8 & 1 & 0.3 \\\\\n",
    "0.5 & 0.3 & 1\n",
    "\\end{array}\\right),S=\\left(\\begin{array}{c}\n",
    "0.30 & 0 & 0 \\\\\n",
    "0 & 0.20 & 0 \\\\\n",
    "0 & 0 & 0.15\n",
    "\\end{array}\\right)$$\n",
    "the $\\Sigma$ of the portfolio can be calculated:\n",
    "$$ \\Sigma = SRS = \\left(\\begin{array}{c}\n",
    "0.09 & 0.048 & 0.0225 \\\\\n",
    "0.048 & 0.04 & 0.009 \\\\\n",
    "0.0225 & 0.009 & 0.0225\n",
    "\\end{array}\\right)$$\n",
    "the $\\sigma_{\\Pi}$ of the portfolio can be calculated:\n",
    "$$\\begin{align}\\sigma_{\\Pi} &=\\sqrt{w^{T}\\Sigma w}\\\\\n",
    "    &= 0.20869834690289238\\end{align}$$\n",
    "according to Confidence c = 99\\%, It can be obtained from the standard plus distribution table\n",
    "$$\\Phi^{-1}(1 − c) = -2.33$$\n",
    "$$Var = 0 + \\Phi^{-1}(1 − c)\\sigma_{\\Pi} = -0.4863$$\n",
    "$$Es = 0 - \\frac{\\sigma(x)}{(1-c)\\sqrt{2\\pi}}exp(-\\frac{1}{2}[\\Phi^{-1}(1-c)]^2) = -0.5515$$ "
   ]
  },
  {
   "cell_type": "markdown",
   "metadata": {},
   "source": [
    "3, Here we can give u and v the following solution:\n",
    "$$u = 1 + \\sigma\\sqrt{dt}$$\n",
    "$$v = 1 - \\sigma\\sqrt{dt}$$\n",
    "Four time step tree, option price Y changes with volatility X as shown in the figure below:\n",
    "\n",
    "<img src=\"./image/Figure_1.png\" style=\"width:600px\">\n",
    "\n",
    "Given sigma, as the time step increases, you can see the change in price as shown in the figure below:\n",
    "\n",
    "<img src=\"./image/Figure_2.png\" style=\"width:600px\">"
   ]
  },
  {
   "cell_type": "markdown",
   "metadata": {},
   "source": [
    "4.1 when  $VaR(x) = \\mu + {\\Phi}^{−1}(1 −c)\\times \\sigma$， obtain ES computation formula for the Normal Distribution is as follows：\n",
    "$$EX_{c}(x) = \\frac{1}{1-c}\\int_{-\\infty}^{\\mu(x)+\\sigma(x)\\Phi^{-1}(1-c)}\\frac{u}{\\sigma(x)\\sqrt{2\\pi}}exp(-\\frac{1}{2}(\\frac{u-\\mu(x)}{\\sigma(x)})^2) {d}u$$\n",
    "$$With\\ the\\ variable\\ change\\ t=\\sigma(x)^{-1}(u-\\mu(x)),\\ we\\ can\\ obtian:$$\n",
    "$$\\mu(x)+\\sigma(x)\\Phi^{-1}(1-c) = \\sigma(x)t + \\mu(x) $$\n",
    "$${du} = \\sigma(x){dt} $$\n",
    "$$The\\ upper\\ limit\\ of\\ the\\ integral\\ is\\ t= \\Phi^{-1}(1-c)$$\n",
    "$$put\\ {du} = \\sigma(x){dt}\\ into\\ EX_{c}(x),\\ we\\ can\\ obtian$$\n",
    "$$\\begin{align}EX_{c}(x)  &= \\frac{1}{1-c}\\int_{-\\infty}^{\\Phi^{-1}(1-c)}\\frac{\\mu(x)+\\sigma(x)t}{\\sqrt{2\\pi}}exp(-\\frac{1}{2}t^2){d}t \\\\\n",
    "    &=  \\frac{\\mu(x)}{1-c}\\int_{-\\infty}^{\\Phi^{-1}(1-c)}\\frac{1}{\\sqrt{2\\pi}}exp(-\\frac{1}{2}t^2){d}t + \\frac{\\sigma(x)}{(1-c)\\sqrt{2\\pi}}\\int_{-\\infty}^{\\Phi^{-1}(1-c)}t\\ exp(-\\frac{1}{2}t^2){d}t\\\\\n",
    "    &=\\frac{u(x)}{1-c}[\\Phi(t)]_{-\\infty}^{\\Phi^{-1}(1-c)}+\\frac{\\sigma(x)}{(1-c)\\sqrt{2\\pi}}\\int_{-\\infty}^{\\Phi^{-1}(1-c)}{d}\\left(-exp(-\\frac{1}{2}t^2)\\right) \\\\\n",
    "    &= \\mu(x)+\\frac{\\sigma(x)}{(1-c)\\sqrt{2\\pi}}[-exp(-\\frac{1}{2}t^2)]_{-\\infty}^{\\Phi^{-1}(1-c)} \\\\\n",
    "    &= \\mu(x)-\\frac{\\sigma(x)}{(1-c)\\sqrt{2\\pi}}exp(-\\frac{1}{2}[\\Phi^{-1}(1-c)]^2) \\end{align}$$"
   ]
  },
  {
   "cell_type": "markdown",
   "metadata": {},
   "source": [
    "4.2 The calculation according to formula ES is shown in the following table, See the attachment for the calculation process E1_YongfeiJi_CODE/solution4_2.xls:\n",
    "\n",
    "<img src=\"./image/4_2.png\">"
   ]
  },
  {
   "cell_type": "markdown",
   "metadata": {},
   "source": [
    "5  Assume that the S&P500 index returns follow the standard positive distribution,The count and percentage of VaR breaches is 25 and 2.05%, The count and percentage of consecutive VaR breaches is  14 and 1.15%;The return rate of the past 21 days is selected to calculate $10DVaR = \\Phi^{-1}(1-0.99)*\\sqrt{10}$, assuming that the actual 10D return is ln ($S_{t+10}/S_{t}$), and draw the image as follows through excel. For detailed calculation and processing, see attachment E1_YongfeiJi_CODE/solution5.xlsx\n",
    "\n",
    "\n",
    "<img src=\"./image/solution5.png\">"
   ]
  },
  {
   "cell_type": "markdown",
   "metadata": {},
   "source": [
    "\n",
    "\n",
    "Note that the CODE for titles 1-3 is attached as E1 YongfeiJi CODE\n"
   ]
  }
 ],
 "metadata": {
  "kernelspec": {
   "display_name": "Python 3 (ipykernel)",
   "language": "python",
   "name": "python3"
  },
  "language_info": {
   "codemirror_mode": {
    "name": "ipython",
    "version": 3
   },
   "file_extension": ".py",
   "mimetype": "text/x-python",
   "name": "python",
   "nbconvert_exporter": "python",
   "pygments_lexer": "ipython3",
   "version": "3.10.10"
  }
 },
 "nbformat": 4,
 "nbformat_minor": 4
}
